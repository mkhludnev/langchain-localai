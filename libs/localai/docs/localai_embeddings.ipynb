{
 "cells": [
  {
   "attachments": {},
   "cell_type": "markdown",
   "id": "278b6c63",
   "metadata": {},
   "source": [
    "# LocalAI Embeddings\n",
    "\n",
    "Let's load the LocalAI Embedding class. In order to use the LocalAI Embedding class, you need to have the LocalAI service hosted somewhere and configure the embedding models. See the documentation at https://localai.io/basics/getting_started/ and https://localai.io/features/embeddings/."
   ]
  },
  {
   "cell_type": "code",
   "execution_count": null,
   "id": "ce3a257c",
   "metadata": {},
   "outputs": [],
   "source": [
    "%pip install -U langchain-localai"
   ]
  },
  {
   "cell_type": "code",
   "execution_count": 1,
   "id": "0be1af71",
   "metadata": {},
   "outputs": [],
   "source": [
    "from langchain_localai import LocalAIEmbeddings\n",
    "\n",
    "embeddings = LocalAIEmbeddings(\n",
    "    openai_api_base=\"http://localhost:8080\", model=\"embedding-model-name\",\n",
    "    # if you are behind an explicit proxy, pass proxy URL via\n",
    "    # openai_proxy=\"http://proxy.yourcompany.com:8080\",\n",
    ")\n",
    "text = \"This is a test document.\"\n",
    "query_result = embeddings.embed_query(text)\n",
    "doc_result = embeddings.embed_documents([text])"
   ]
  }
 ],
 "metadata": {
  "kernelspec": {
   "display_name": "Python 3 (ipykernel)",
   "language": "python",
   "name": "python3"
  },
  "language_info": {
   "codemirror_mode": {
    "name": "ipython",
    "version": 3
   },
   "file_extension": ".py",
   "mimetype": "text/x-python",
   "name": "python",
   "nbconvert_exporter": "python",
   "pygments_lexer": "ipython3",
   "version": "3.10.12"
  },
  "vscode": {
   "interpreter": {
    "hash": "e971737741ff4ec9aff7dc6155a1060a59a8a6d52c757dbbe66bf8ee389494b1"
   }
  }
 },
 "nbformat": 4,
 "nbformat_minor": 5
}
